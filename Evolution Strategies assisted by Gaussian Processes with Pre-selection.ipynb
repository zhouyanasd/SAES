{
 "cells": [
  {
   "cell_type": "markdown",
   "metadata": {},
   "source": [
    "# Evolution Strategies assisted by Gaussian Processes with Pre-selection"
   ]
  },
  {
   "cell_type": "markdown",
   "metadata": {},
   "source": [
    "## Useage and Example"
   ]
  },
  {
   "cell_type": "code",
   "execution_count": 1,
   "metadata": {},
   "outputs": [],
   "source": [
    "import numpy as np\n",
    "import cma\n",
    "from bayes_opt import BayesianOptimization\n",
    "from bayes_opt import UtilityFunction\n",
    "from bayes_opt.target_space import TargetSpace\n",
    "from bayes_opt.target_space import _hashable\n",
    "import warnings\n",
    "warnings.simplefilter(\"ignore\")"
   ]
  },
  {
   "cell_type": "code",
   "execution_count": 2,
   "metadata": {},
   "outputs": [],
   "source": [
    "def f(**p):\n",
    "     return (np.array(p['x']))**2+(np.array(p['y']))**2 + 1\n",
    "    \n",
    "class TargetSpace_(TargetSpace):\n",
    "    def __init__(self, target_func, pbounds, random_state=None):\n",
    "        super(TargetSpace_,self).__init__(target_func, pbounds, random_state=None)\n",
    "    \n",
    "    def register(self, params, target):\n",
    "        x = self._as_array(params)\n",
    "        if x in self:\n",
    "            raise KeyError('Data point {} is not unique'.format(x))\n",
    "        self._cache[_hashable(x.ravel())] = -target\n",
    "        self._params = np.concatenate([self._params, x.reshape(1, -1)])\n",
    "        self._target = np.concatenate([self._target, [-target]])\n",
    "\n",
    "class BayesianOptimization_(BayesianOptimization):\n",
    "    def __init__(self, f, pbounds, random_state=None, verbose=2):\n",
    "        super(BayesianOptimization_, self).__init__(f, pbounds, random_state=None, verbose=2)\n",
    "        self._space = TargetSpace_(f, pbounds, random_state)\n",
    "        \n",
    "    def acq_max_fixedpoint(self, ac, gp, X, y_max):\n",
    "        gauss = ac(X, gp=gp, y_max=y_max)\n",
    "        return gauss\n",
    "        \n",
    "    def guess_fixedpoint(self, utility_function, X):\n",
    "        self._gp.fit(self._space.params, self._space.target)\n",
    "        gauss = self.acq_max_fixedpoint(\n",
    "            ac=utility_function.utility,\n",
    "            gp=self._gp,\n",
    "            X = X,\n",
    "            y_max=self._space.target.max(),\n",
    "        )\n",
    "        return gauss\n",
    "\n",
    "class SAES():\n",
    "    def __init__(self, f, acquisition, x0, sigma, kappa=2.576, xi=0.0, **opts):\n",
    "        self.f = f\n",
    "        self.optimizer = BayesianOptimization_(\n",
    "            f=f,\n",
    "            pbounds= opts['bounds'],\n",
    "            random_state=1,\n",
    "        )\n",
    "        self.util = UtilityFunction(kind=acquisition, kappa=kappa, xi=xi)\n",
    "        opts['bounds'] =self.optimizer._space._bounds.T.tolist()\n",
    "        self.es = cma.CMAEvolutionStrategy(x0, sigma, opts)\n",
    "    \n",
    "    def run(self, n):\n",
    "        X = self.es.ask() # get the initial offstpring\n",
    "        fit = [self.f(**self.optimizer._space.array_to_params(x)) for x in X] # evaluated by the real fitness\n",
    "        self.es.tell(X, fit)  # update the CMA-ES model
    "        self.es.logger.add()  # update the log
    "        self.es.disp()
    "        for x,eva in zip(X,fit):\n",
    "            self.optimizer._space.register(x,eva)# build the BO model\n",
    "        while not self.es.stop():\n",
    "            X = self.es.ask(self.es.popsize*n)# initial n times offspring for pre-selection\n",
    "            guess = self.optimizer.guess_fixedpoint(self.util, X)# predice the possible good solution by BO\n",
    "            X_ = np.array(X)[guess.argsort()[::-1][0:int(self.es.popsize)]] # select the top n possible solution\n",
    "            fit_ = [self.f(**self.optimizer._space.array_to_params(x)) for x in X_]# evaluted by real fitness function\n",
    "            for x,eva in zip(X_,fit_):\n",
    "                self.optimizer._space.register(x,eva)# update the BO model\n",
    "            self.es.tell(X_, fit_)# update the CMA-ES model\n",
    "            self.es.logger.add()# update the log\n",
    "            self.es.disp()"
   ]
  },
  {
   "cell_type": "code",
   "execution_count": 3,
   "metadata": {},
   "outputs": [
    {
     "name": "stdout",
     "output_type": "stream",
     "text": [
      "(1,3mirr1)-aCMA-ES (mu_w=1.0,w_1=100%) in dimension 2 (seed=210118, Thu Mar 21 15:46:14 2019)\n"
     ]
    }
   ],
   "source": [
    "sass = SAES(f,'ei','10 * np.random.rand(2)', 5, kappa=2.576, xi=0.0, \n",
    "            **{'ftarget': 1e-3+1,'bounds': {'x': (0.0, 100.0), 'y': (0.0, 100.0)},'maxiter':1000,'popsize':3})"
   ]
  },
  {
   "cell_type": "code",
   "execution_count": 4,
   "metadata": {},
   "outputs": [
    {
     "name": "stdout",
     "output_type": "stream",
     "text": [
      "Iterat #Fevals   function value  axis ratio  sigma  min&max std  t[m:s]\n",
      "    1      3 2.712657023111615e+01 1.0e+00 4.26e+00  4e+00  4e+00 0:00.0\n",
      "    2      6 1.063296660956652e+01 1.1e+00 5.19e+00  5e+00  6e+00 0:00.1\n",
      "    3      9 1.861443149343141e+00 1.3e+00 4.52e+00  4e+00  5e+00 0:00.2\n",
      "   22     66 1.000023933047702e+00 1.8e+00 2.44e-01  9e-02  2e-01 1:14.9\n"
     ]
    }
   ],
   "source": [
    "n = 2\n",
    "sass.run(n) #generate n times popsize offspring by CMA-ES"
   ]
  },
  {
   "cell_type": "code",
   "execution_count": null,
   "metadata": {},
   "outputs": [],
   "source": []
  }
 ],
 "metadata": {
  "hide_input": false,
  "kernelspec": {
   "display_name": "Python 3",
   "language": "python",
   "name": "python3"
  },
  "language_info": {
   "codemirror_mode": {
    "name": "ipython",
    "version": 3
   },
   "file_extension": ".py",
   "mimetype": "text/x-python",
   "name": "python",
   "nbconvert_exporter": "python",
   "pygments_lexer": "ipython3",
   "version": "3.6.7"
  },
  "toc": {
   "nav_menu": {},
   "number_sections": true,
   "sideBar": true,
   "skip_h1_title": false,
   "title_cell": "Table of Contents",
   "title_sidebar": "Contents",
   "toc_cell": false,
   "toc_position": {},
   "toc_section_display": true,
   "toc_window_display": false
  },
  "varInspector": {
   "cols": {
    "lenName": 16,
    "lenType": 16,
    "lenVar": 40
   },
   "kernels_config": {
    "python": {
     "delete_cmd_postfix": "",
     "delete_cmd_prefix": "del ",
     "library": "var_list.py",
     "varRefreshCmd": "print(var_dic_list())"
    },
    "r": {
     "delete_cmd_postfix": ") ",
     "delete_cmd_prefix": "rm(",
     "library": "var_list.r",
     "varRefreshCmd": "cat(var_dic_list()) "
    }
   },
   "types_to_exclude": [
    "module",
    "function",
    "builtin_function_or_method",
    "instance",
    "_Feature"
   ],
   "window_display": false
  }
 },
 "nbformat": 4,
 "nbformat_minor": 2
}
