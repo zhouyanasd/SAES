{
 "cells": [
  {
   "cell_type": "markdown",
   "metadata": {},
   "source": [
    "# Bayesian optimization assisted by CMA-ES"
   ]
  },
  {
   "cell_type": "markdown",
   "metadata": {},
   "source": [
    "## Useage and Example"
   ]
  },
  {
   "cell_type": "code",
   "execution_count": 1,
   "metadata": {},
   "outputs": [],
   "source": [
    "from bayes_opt import BayesianOptimization\n",
    "import numpy as np\n",
    "\n",
    "import warnings\n",
    "\n",
    "import cma"
   ]
  },
  {
   "cell_type": "code",
   "execution_count": 11,
   "metadata": {},
   "outputs": [],
   "source": [
    "class BayesianOptimization_CMAES(BayesianOptimization):\n",
    "    def __init__(self, f, pbounds, random_state=None, verbose=2):\n",
    "        super(BayesianOptimization_CMAES, self).__init__(f, pbounds, random_state=None, verbose=2)\n",
    "        \n",
    "    def acq_max_CMAES(self, ac, gp, y_max, bounds, random_state, n_warmup=100000, n_iter=250):\n",
    "        x_seeds = random_state.uniform(bounds[:, 0], bounds[:, 1],\n",
    "                                   size=(bounds.shape[0]))\n",
    "        options = {'ftarget': 1e-4,'bounds': bounds.T.tolist(),'maxiter':100000,'verb_log':0,'verb_time':False,'verbose':-9}\n",
    "        res = cma.fmin(lambda x: 30-ac(x.reshape(1, -1), gp=gp, y_max=y_max), x_seeds, 0.25, options=options, \n",
    "               restarts =0, incpopsize=0, restart_from_best=False, bipop=False)\n",
    "        x_max = res[0]\n",
    "        return np.clip(x_max, bounds[:, 0], bounds[:, 1])\n",
    "        \n",
    "    def suggest(self, utility_function):\n",
    "        \"\"\"Most promissing point to probe next\"\"\"\n",
    "        if len(self._space) == 0:\n",
    "            return self._space.array_to_params(self._space.random_sample())\n",
    "        with warnings.catch_warnings():\n",
    "            warnings.simplefilter(\"ignore\")\n",
    "            self._gp.fit(self._space.params, self._space.target)\n",
    "        suggestion = self.acq_max_CMAES(\n",
    "            ac=utility_function.utility,\n",
    "            gp=self._gp,\n",
    "            y_max=self._space.target.max(),\n",
    "            bounds=self._space.bounds,\n",
    "            random_state=self._random_state\n",
    "        )\n",
    "        return self._space.array_to_params(suggestion)"
   ]
  },
  {
   "cell_type": "code",
   "execution_count": 12,
   "metadata": {},
   "outputs": [
    {
     "name": "stdout",
     "output_type": "stream",
     "text": [
      "|   iter    |  target   |     x     |     y     |\n",
      "-------------------------------------------------\n",
      "| \u001b[0m 1       \u001b[0m | \u001b[0m 11.36   \u001b[0m | \u001b[0m 3.218   \u001b[0m | \u001b[0m 0.07719 \u001b[0m |\n",
      "| \u001b[95m 2       \u001b[0m | \u001b[95m 14.0    \u001b[0m | \u001b[95m 2.0     \u001b[0m | \u001b[95m 3.0     \u001b[0m |\n",
      "| \u001b[0m 3       \u001b[0m | \u001b[0m 9.186   \u001b[0m | \u001b[0m 2.612   \u001b[0m | \u001b[0m-1.168   \u001b[0m |\n",
      "| \u001b[95m 4       \u001b[0m | \u001b[95m 14.9    \u001b[0m | \u001b[95m 2.214   \u001b[0m | \u001b[95m 3.0     \u001b[0m |\n",
      "| \u001b[0m 5       \u001b[0m | \u001b[0m 14.76   \u001b[0m | \u001b[0m 2.298   \u001b[0m | \u001b[0m 2.912   \u001b[0m |\n",
      "| \u001b[95m 6       \u001b[0m | \u001b[95m 15.46   \u001b[0m | \u001b[95m 2.336   \u001b[0m | \u001b[95m 3.0     \u001b[0m |\n",
      "| \u001b[95m 7       \u001b[0m | \u001b[95m 26.0    \u001b[0m | \u001b[95m 4.0     \u001b[0m | \u001b[95m-3.0     \u001b[0m |\n",
      "| \u001b[0m 8       \u001b[0m | \u001b[0m 7.38    \u001b[0m | \u001b[0m 2.039   \u001b[0m | \u001b[0m-1.491   \u001b[0m |\n",
      "| \u001b[0m 9       \u001b[0m | \u001b[0m 10.43   \u001b[0m | \u001b[0m 2.057   \u001b[0m | \u001b[0m 2.281   \u001b[0m |\n",
      "| \u001b[0m 10      \u001b[0m | \u001b[0m 17.03   \u001b[0m | \u001b[0m 3.045   \u001b[0m | \u001b[0m 2.599   \u001b[0m |\n",
      "| \u001b[0m 11      \u001b[0m | \u001b[0m 14.12   \u001b[0m | \u001b[0m 3.402   \u001b[0m | \u001b[0m 1.243   \u001b[0m |\n",
      "=================================================\n"
     ]
    }
   ],
   "source": [
    "def ff(**p):\n",
    "     return (np.array(p['x']))**2+(np.array(p['y']))**2 + 1\n",
    "    \n",
    "optimizer = BayesianOptimization_CMAES(\n",
    "    f=ff,\n",
    "    pbounds={'x': (2.0, 4.0), 'y': (-3.0, 3.0)},\n",
    "    verbose=2, # verbose = 1 prints only when a maximum is observed, verbose = 0 is silent\n",
    "    random_state=1,\n",
    ")    \n",
    "\n",
    "optimizer.maximize(\n",
    "    init_points=1,\n",
    "    n_iter=10,\n",
    "    acq='ei',\n",
    "    kappa=2.576,\n",
    "    xi=0.0,\n",
    ")"
   ]
  }
 ],
 "metadata": {
  "hide_input": false,
  "kernelspec": {
   "display_name": "Python 3",
   "language": "python",
   "name": "python3"
  },
  "language_info": {
   "codemirror_mode": {
    "name": "ipython",
    "version": 3
   },
   "file_extension": ".py",
   "mimetype": "text/x-python",
   "name": "python",
   "nbconvert_exporter": "python",
   "pygments_lexer": "ipython3",
   "version": "3.6.7"
  },
  "toc": {
   "nav_menu": {},
   "number_sections": true,
   "sideBar": true,
   "skip_h1_title": false,
   "title_cell": "Table of Contents",
   "title_sidebar": "Contents",
   "toc_cell": false,
   "toc_position": {},
   "toc_section_display": true,
   "toc_window_display": false
  },
  "varInspector": {
   "cols": {
    "lenName": 16,
    "lenType": 16,
    "lenVar": 40
   },
   "kernels_config": {
    "python": {
     "delete_cmd_postfix": "",
     "delete_cmd_prefix": "del ",
     "library": "var_list.py",
     "varRefreshCmd": "print(var_dic_list())"
    },
    "r": {
     "delete_cmd_postfix": ") ",
     "delete_cmd_prefix": "rm(",
     "library": "var_list.r",
     "varRefreshCmd": "cat(var_dic_list()) "
    }
   },
   "types_to_exclude": [
    "module",
    "function",
    "builtin_function_or_method",
    "instance",
    "_Feature"
   ],
   "window_display": false
  }
 },
 "nbformat": 4,
 "nbformat_minor": 2
}
